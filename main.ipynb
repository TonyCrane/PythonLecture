{
 "cells": [
  {
   "cell_type": "code",
   "execution_count": 1,
   "metadata": {},
   "outputs": [
    {
     "name": "stdout",
     "output_type": "stream",
     "text": [
      "Hello World!\n"
     ]
    }
   ],
   "source": [
    "print(\"Hello World!\")"
   ]
  },
  {
   "cell_type": "code",
   "execution_count": 2,
   "metadata": {},
   "outputs": [
    {
     "name": "stdout",
     "output_type": "stream",
     "text": [
      "123\n"
     ]
    }
   ],
   "source": [
    "a = 1\n",
    "A = 2\n",
    "# if = 2\n",
    "# print = 3\n",
    "# sum = 0\n",
    "UP = [0, 1, 0]\n",
    "FRAME_HEIGHT = 8\n",
    "__name__ = 4\n",
    "_ = 3\n",
    "print(\"123\")"
   ]
  },
  {
   "cell_type": "code",
   "execution_count": 43,
   "metadata": {},
   "outputs": [
    {
     "name": "stdout",
     "output_type": "stream",
     "text": [
      "1 <class 'int'>\n",
      "1.0 <class 'float'>\n",
      "1 1 -1 -1\n",
      "1 2 -1 -2\n",
      "2 2\n",
      "1.6 1.6\n",
      "1 -2\n",
      "2 -1\n",
      "3 3.0\n",
      "2.0 1.3333333333333333\n",
      "2 -2 1\n",
      "1 2 -1\n",
      "4 2.0\n",
      "4 1.4142135623730951\n",
      "1 0\n"
     ]
    }
   ],
   "source": [
    "print(1, type(1))\n",
    "print(1., type(1.))\n",
    "print(int(1.2), int(1.6), int(-1.2), int(-1.6))\n",
    "print(round(1.2), round(1.6), round(-1.2), round(-1.6))\n",
    "print(round(1.5), round(2.5))\n",
    "print(round(1.65, 1), round(1.55, 1))\n",
    "import math\n",
    "print(math.floor(1.5), math.floor(-1.5))\n",
    "print(math.ceil(1.5), math.ceil(-1.5))\n",
    "print(1 + 2, 1 + 2.0)\n",
    "print(4 / 2, 4 / 3)\n",
    "print(4 // 2, -4 // 3, 4 // 3)\n",
    "print(5 % 2, -7 % 3, -7 % -3)\n",
    "print(2 ** 2, 4 ** 0.5)\n",
    "print(pow(2, 2), pow(2, 0.5))\n",
    "print(pow(2, 2, 3), pow(2, 3, -1))"
   ]
  },
  {
   "cell_type": "code",
   "execution_count": 55,
   "metadata": {},
   "outputs": [
    {
     "name": "stdout",
     "output_type": "stream",
     "text": [
      "(1+2j)\n",
      "(3+5j)\n",
      "False\n",
      "1.0 2.0 (1-2j)\n"
     ]
    }
   ],
   "source": [
    "print(1+2j) # 1 + 2i\n",
    "print(complex(1, 2) + complex(2, 3))\n",
    "# print(complex(1, 2) < complex(2, 3))\n",
    "print(complex(1, 2) == complex(2, 3))\n",
    "print((1+2j).real, (1+2j).imag, (1+2j).conjugate())"
   ]
  },
  {
   "cell_type": "code",
   "execution_count": 58,
   "metadata": {},
   "outputs": [],
   "source": [
    "from IPython.core.interactiveshell import InteractiveShell\n",
    "InteractiveShell.ast_node_interactivity = \"all\""
   ]
  },
  {
   "cell_type": "code",
   "execution_count": 88,
   "metadata": {},
   "outputs": [
    {
     "name": "stdout",
     "output_type": "stream",
     "text": [
      "abcdsad\n"
     ]
    },
    {
     "data": {
      "text/plain": [
       "'abcdef'"
      ]
     },
     "execution_count": 88,
     "metadata": {},
     "output_type": "execute_result"
    },
    {
     "data": {
      "text/plain": [
       "'abcdef'"
      ]
     },
     "execution_count": 88,
     "metadata": {},
     "output_type": "execute_result"
    },
    {
     "name": "stdout",
     "output_type": "stream",
     "text": [
      "abc\n",
      "\tdef\n",
      "dec\n",
      "'ab\"c' \"ab'c\"\n",
      "\\s \\s\n",
      "abc\\n\\tdef\\\\ \\n\n",
      "a = 123\n",
      "b'abc'\n"
     ]
    }
   ],
   "source": [
    "s = 'abc'\n",
    "s = \"abc\"\n",
    "s = '''abc\n",
    "def'''\n",
    "s = 'abc\\\n",
    "dsad'\n",
    "print(s)\n",
    "\"abc\" \"def\"\n",
    "\"abc\" + \"def\"\n",
    "s = \"abc\\n\\tdef\"\n",
    "print(s)\n",
    "s = \"abc\\rde\"\n",
    "print(s)\n",
    "print(\"'ab\\\"c'\", '\"ab\\'c\\\"')\n",
    "print(\"\\s\", \"\\\\s\")\n",
    "print(r\"abc\\n\\tdef\\\\\", r'''\\n''')\n",
    "# printf(\"a = %d\\n\", 123);\n",
    "print(f\"a = {123}\")\n",
    "print(b\"abc\")"
   ]
  },
  {
   "cell_type": "code",
   "execution_count": 103,
   "metadata": {},
   "outputs": [
    {
     "data": {
      "text/plain": [
       "'  abcdef ghij \\n\\t '"
      ]
     },
     "execution_count": 103,
     "metadata": {},
     "output_type": "execute_result"
    },
    {
     "data": {
      "text/plain": [
       "'  ABCDEF GHIJ \\n\\t '"
      ]
     },
     "execution_count": 103,
     "metadata": {},
     "output_type": "execute_result"
    },
    {
     "data": {
      "text/plain": [
       "'  Abcdef Ghij \\n\\t '"
      ]
     },
     "execution_count": 103,
     "metadata": {},
     "output_type": "execute_result"
    },
    {
     "name": "stdout",
     "output_type": "stream",
     "text": [
      "  aBcDeF GhiJ \n",
      "\t \n"
     ]
    },
    {
     "data": {
      "text/plain": [
       "'aBcDeF GhiJ'"
      ]
     },
     "execution_count": 103,
     "metadata": {},
     "output_type": "execute_result"
    },
    {
     "data": {
      "text/plain": [
       "'aBcDeF GhiJ \\n\\t'"
      ]
     },
     "execution_count": 103,
     "metadata": {},
     "output_type": "execute_result"
    },
    {
     "data": {
      "text/plain": [
       "'aBcDeF GhiJ \\n\\t '"
      ]
     },
     "execution_count": 103,
     "metadata": {},
     "output_type": "execute_result"
    },
    {
     "data": {
      "text/plain": [
       "'  aBcDeF GhiJ'"
      ]
     },
     "execution_count": 103,
     "metadata": {},
     "output_type": "execute_result"
    },
    {
     "data": {
      "text/plain": [
       "['', '', 'aBcDeF', 'GhiJ', '\\n\\t', '']"
      ]
     },
     "execution_count": 103,
     "metadata": {},
     "output_type": "execute_result"
    },
    {
     "data": {
      "text/plain": [
       "['a', 'b', 'c', 'd\\ne\\tf']"
      ]
     },
     "execution_count": 103,
     "metadata": {},
     "output_type": "execute_result"
    },
    {
     "data": {
      "text/plain": [
       "['a', 'b', 'c', 'd', 'e', 'f']"
      ]
     },
     "execution_count": 103,
     "metadata": {},
     "output_type": "execute_result"
    },
    {
     "data": {
      "text/plain": [
       "['ab', 'def']"
      ]
     },
     "execution_count": 103,
     "metadata": {},
     "output_type": "execute_result"
    }
   ],
   "source": [
    "s = \"  aBcDeF GhiJ \\n\\t \"\n",
    "s.lower()\n",
    "s.upper()\n",
    "s.title()\n",
    "print(s)\n",
    "s.strip()\n",
    "s.strip(\" \")\n",
    "s.lstrip()\n",
    "s.rstrip()\n",
    "s.split(\" \")\n",
    "s = \"a b c d\\ne\\tf\"\n",
    "s.split(\" \")\n",
    "s.split()\n",
    "s = \"abcdef\"\n",
    "s.split(\"c\")"
   ]
  },
  {
   "cell_type": "code",
   "execution_count": 128,
   "metadata": {},
   "outputs": [
    {
     "name": "stdout",
     "output_type": "stream",
     "text": [
      "a = 123, b = 456\n",
      "a = 123, b = 456\n",
      "a = 123, b = 456, a = 123\n",
      "a = 123, b = 456, a + b = 579, { }\n",
      "abcd__\n",
      "  abcd\n",
      "abcd\n",
      "_abcd_\n",
      "abc\n",
      "+123\n",
      "-123\n",
      "123\n",
      "-123\n",
      " 123\n",
      "-123\n"
     ]
    }
   ],
   "source": [
    "# printf(\"a = %d\", 123);\n",
    "print(\"a = %d, b = %d\" % (123, 456))\n",
    "print(\"a = {}, b = {}\".format(123, 456))\n",
    "print(\"a = {a}, b = {b}, a = {a}\".format(a=123, b=456))\n",
    "\n",
    "a = 123\n",
    "b = 456\n",
    "c = -123\n",
    "s = \"abcd\"\n",
    "print(f\"a = {a}, b = {b}, a + b = {a+b}, {{ }}\")\n",
    "print(f\"{s:_<6}\", f\"{s:>6}\", f\"{s:<3}\", f\"{s:_^6}\", sep=\"\\n\")\n",
    "print(f\"{s:.3}\")\n",
    "print(f\"{a:+}\", f\"{c:+}\", f\"{a:-}\", f\"{c:-}\", f\"{a: }\", f\"{c: }\", sep=\"\\n\")"
   ]
  },
  {
   "cell_type": "code",
   "execution_count": 144,
   "metadata": {},
   "outputs": [
    {
     "name": "stdout",
     "output_type": "stream",
     "text": [
      "123.457\n",
      "123.456789\n",
      "12,345,678 12_345_678\n",
      "4d2 0x4d2 2322 0o2322 10011010010 0b10011010010\n"
     ]
    }
   ],
   "source": [
    "print(f\"{123.45678901:.3f}\")\n",
    "print(f\"{123.45678901:f}\")\n",
    "print(f\"{12345678:,}\", f\"{12345678:_}\")\n",
    "print(f\"{1234:x}\", f\"{1234:#x}\", f\"{1234:o} {1234:#o} {1234:b} {1234:#b}\")"
   ]
  },
  {
   "cell_type": "code",
   "execution_count": 142,
   "metadata": {},
   "outputs": [
    {
     "data": {
      "text/plain": [
       "10"
      ]
     },
     "execution_count": 142,
     "metadata": {},
     "output_type": "execute_result"
    },
    {
     "data": {
      "text/plain": [
       "8"
      ]
     },
     "execution_count": 142,
     "metadata": {},
     "output_type": "execute_result"
    },
    {
     "data": {
      "text/plain": [
       "2"
      ]
     },
     "execution_count": 142,
     "metadata": {},
     "output_type": "execute_result"
    },
    {
     "data": {
      "text/plain": [
       "'0x4d2'"
      ]
     },
     "execution_count": 142,
     "metadata": {},
     "output_type": "execute_result"
    },
    {
     "data": {
      "text/plain": [
       "'0o2322'"
      ]
     },
     "execution_count": 142,
     "metadata": {},
     "output_type": "execute_result"
    },
    {
     "data": {
      "text/plain": [
       "'0b10011010010'"
      ]
     },
     "execution_count": 142,
     "metadata": {},
     "output_type": "execute_result"
    }
   ],
   "source": [
    "int(0xa)\n",
    "int(0o10)\n",
    "int(0b10)\n",
    "hex(1234)\n",
    "oct(1234)\n",
    "bin(1234)"
   ]
  },
  {
   "cell_type": "code",
   "execution_count": 157,
   "metadata": {},
   "outputs": [
    {
     "data": {
      "text/plain": [
       "[97, 98, 99, 100, 49, 50, 51, 52]"
      ]
     },
     "execution_count": 157,
     "metadata": {},
     "output_type": "execute_result"
    },
    {
     "data": {
      "text/plain": [
       "['a', 'b', 'c', 'd', '1', '2', '3', '4']"
      ]
     },
     "execution_count": 157,
     "metadata": {},
     "output_type": "execute_result"
    },
    {
     "name": "stdout",
     "output_type": "stream",
     "text": [
      "b'abcd\\xce\\xd2' b'abcd\\xe6\\x88\\x91' b'abcd\\xe6\\x88\\x91'\n",
      "abcd我\n",
      "b'abcd\\xe6\\x88\\x91'\n",
      "b'abcd\\xe6\\x88\\x91'\n"
     ]
    }
   ],
   "source": [
    "b = b\"abcd1234\"\n",
    "list(b)\n",
    "s = \"abcd1234\"\n",
    "list(s)\n",
    "print(\"abcd我\".encode(\"gbk\"), \"abcd我\".encode(\"utf-8\"), \"abcd我\".encode())\n",
    "print(b\"abcd\\xe6\\x88\\x91\".decode(\"utf-8\"))\n",
    "print(bytes(\"abcd我\", \"utf-8\"))\n",
    "b = bytes(\"abcd我\", \"utf-8\")\n",
    "print(str(b))"
   ]
  },
  {
   "cell_type": "code",
   "execution_count": 173,
   "metadata": {},
   "outputs": [
    {
     "name": "stdout",
     "output_type": "stream",
     "text": [
      "True False\n"
     ]
    },
    {
     "data": {
      "text/plain": [
       "True"
      ]
     },
     "execution_count": 173,
     "metadata": {},
     "output_type": "execute_result"
    },
    {
     "data": {
      "text/plain": [
       "False"
      ]
     },
     "execution_count": 173,
     "metadata": {},
     "output_type": "execute_result"
    },
    {
     "data": {
      "text/plain": [
       "True"
      ]
     },
     "execution_count": 173,
     "metadata": {},
     "output_type": "execute_result"
    },
    {
     "data": {
      "text/plain": [
       "(True, False)"
      ]
     },
     "execution_count": 173,
     "metadata": {},
     "output_type": "execute_result"
    },
    {
     "data": {
      "text/plain": [
       "(False, True, True)"
      ]
     },
     "execution_count": 173,
     "metadata": {},
     "output_type": "execute_result"
    },
    {
     "name": "stdout",
     "output_type": "stream",
     "text": [
      "this is false\n"
     ]
    },
    {
     "data": {
      "text/plain": [
       "True"
      ]
     },
     "execution_count": 173,
     "metadata": {},
     "output_type": "execute_result"
    },
    {
     "data": {
      "text/plain": [
       "True"
      ]
     },
     "execution_count": 173,
     "metadata": {},
     "output_type": "execute_result"
    },
    {
     "data": {
      "text/plain": [
       "(False, True, True)"
      ]
     },
     "execution_count": 173,
     "metadata": {},
     "output_type": "execute_result"
    },
    {
     "data": {
      "text/plain": [
       "True"
      ]
     },
     "execution_count": 173,
     "metadata": {},
     "output_type": "execute_result"
    },
    {
     "data": {
      "text/plain": [
       "True"
      ]
     },
     "execution_count": 173,
     "metadata": {},
     "output_type": "execute_result"
    }
   ],
   "source": [
    "print(True, False)\n",
    "# print(true)\n",
    "bool(1)\n",
    "bool(0)\n",
    "bool(-1)\n",
    "bool(\"124\"), bool(\"\")\n",
    "True & False, True | False, True & True\n",
    "def false():\n",
    "    print(\"this is false\")\n",
    "    return False\n",
    "True | false()\n",
    "True or false()\n",
    "True and False, True or False, True and True\n",
    "not False\n",
    "False ^ True"
   ]
  },
  {
   "cell_type": "code",
   "execution_count": 175,
   "metadata": {},
   "outputs": [
    {
     "data": {
      "text/plain": [
       "'\\nbool(1)\\nbool(0)\\nbool(-1)\\n'"
      ]
     },
     "execution_count": 175,
     "metadata": {},
     "output_type": "execute_result"
    }
   ],
   "source": [
    "# abc = 1\n",
    "\"\"\"\n",
    "bool(1)\n",
    "bool(0)\n",
    "bool(-1)\n",
    "\"\"\""
   ]
  },
  {
   "cell_type": "code",
   "execution_count": 187,
   "metadata": {},
   "outputs": [
    {
     "data": {
      "text/plain": [
       "1"
      ]
     },
     "execution_count": 187,
     "metadata": {},
     "output_type": "execute_result"
    },
    {
     "data": {
      "text/plain": [
       "'abc'"
      ]
     },
     "execution_count": 187,
     "metadata": {},
     "output_type": "execute_result"
    },
    {
     "data": {
      "text/plain": [
       "True"
      ]
     },
     "execution_count": 187,
     "metadata": {},
     "output_type": "execute_result"
    },
    {
     "data": {
      "text/plain": [
       "3"
      ]
     },
     "execution_count": 187,
     "metadata": {},
     "output_type": "execute_result"
    },
    {
     "data": {
      "text/plain": [
       "[2, 3]"
      ]
     },
     "execution_count": 187,
     "metadata": {},
     "output_type": "execute_result"
    },
    {
     "data": {
      "text/plain": [
       "['abc', True]"
      ]
     },
     "execution_count": 187,
     "metadata": {},
     "output_type": "execute_result"
    },
    {
     "data": {
      "text/plain": [
       "[1, 2, 3]"
      ]
     },
     "execution_count": 187,
     "metadata": {},
     "output_type": "execute_result"
    },
    {
     "data": {
      "text/plain": [
       "['abc', True]"
      ]
     },
     "execution_count": 187,
     "metadata": {},
     "output_type": "execute_result"
    },
    {
     "data": {
      "text/plain": [
       "[1, 2, 3, 'abc', True]"
      ]
     },
     "execution_count": 187,
     "metadata": {},
     "output_type": "execute_result"
    }
   ],
   "source": [
    "lst = [1, 2, 3, \"abc\", True]\n",
    "lst[0]\n",
    "lst[3]\n",
    "lst[-1]\n",
    "lst[-3]\n",
    "lst[1:3]\n",
    "lst[3:5]\n",
    "lst[:3]\n",
    "lst[3:]\n",
    "lst[:]"
   ]
  },
  {
   "cell_type": "code",
   "execution_count": 204,
   "metadata": {},
   "outputs": [
    {
     "data": {
      "text/plain": [
       "[1, 3, 5]"
      ]
     },
     "execution_count": 204,
     "metadata": {},
     "output_type": "execute_result"
    },
    {
     "data": {
      "text/plain": [
       "[7, 6, 5, 4, 3, 2]"
      ]
     },
     "execution_count": 204,
     "metadata": {},
     "output_type": "execute_result"
    },
    {
     "data": {
      "text/plain": [
       "[7, 6, 5, 4, 3, 2, 1, 0]"
      ]
     },
     "execution_count": 204,
     "metadata": {},
     "output_type": "execute_result"
    },
    {
     "data": {
      "text/plain": [
       "[0, 1, 3, 3, 4, 5, 6, 7]"
      ]
     },
     "execution_count": 204,
     "metadata": {},
     "output_type": "execute_result"
    },
    {
     "data": {
      "text/plain": [
       "(None, [0, 1, 1, 4, 5, 6, 7, 8])"
      ]
     },
     "execution_count": 204,
     "metadata": {},
     "output_type": "execute_result"
    },
    {
     "data": {
      "text/plain": [
       "(8, [0, 1, 1, 4, 5, 6, 7])"
      ]
     },
     "execution_count": 204,
     "metadata": {},
     "output_type": "execute_result"
    },
    {
     "data": {
      "text/plain": [
       "(None, [0, 3, 1, 1, 4, 5, 6, 7])"
      ]
     },
     "execution_count": 204,
     "metadata": {},
     "output_type": "execute_result"
    },
    {
     "data": {
      "text/plain": [
       "(3, [0, 1, 1, 4, 5, 6, 7])"
      ]
     },
     "execution_count": 204,
     "metadata": {},
     "output_type": "execute_result"
    },
    {
     "data": {
      "text/plain": [
       "([0, 1, 1, 4, 5, 6, 7, 8, 9, 10], [0, 1, 1, 4, 5, 6, 7])"
      ]
     },
     "execution_count": 204,
     "metadata": {},
     "output_type": "execute_result"
    }
   ],
   "source": [
    "lst = [0, 1, 2, 3, 4, 5, 6, 7]\n",
    "lst[1:7:2]\n",
    "lst[7:1:-1]\n",
    "lst[::-1]\n",
    "lst[2] = 3\n",
    "lst\n",
    "lst[2:4] = [1]\n",
    "lst.append(8), lst\n",
    "lst.pop(), lst\n",
    "lst.insert(1, 3), lst\n",
    "lst.pop(1), lst\n",
    "lst + [8, 9, 10], lst"
   ]
  },
  {
   "cell_type": "code",
   "execution_count": 220,
   "metadata": {},
   "outputs": [
    {
     "data": {
      "text/plain": [
       "(None, [1, 2, 3, 8, 9, 10])"
      ]
     },
     "execution_count": 220,
     "metadata": {},
     "output_type": "execute_result"
    },
    {
     "data": {
      "text/plain": [
       "(None, [1, 2, 3, 8, 9, 10, [8, 9, 10]])"
      ]
     },
     "execution_count": 220,
     "metadata": {},
     "output_type": "execute_result"
    },
    {
     "data": {
      "text/plain": [
       "(None, [1, 2, 3])"
      ]
     },
     "execution_count": 220,
     "metadata": {},
     "output_type": "execute_result"
    },
    {
     "data": {
      "text/plain": [
       "([1, 4, 4, 6, 12, 13, 45, 67], [13, 4, 6, 1, 45, 4, 67, 12])"
      ]
     },
     "execution_count": 220,
     "metadata": {},
     "output_type": "execute_result"
    },
    {
     "data": {
      "text/plain": [
       "(None, [1, 4, 4, 6, 12, 13, 45, 67])"
      ]
     },
     "execution_count": 220,
     "metadata": {},
     "output_type": "execute_result"
    },
    {
     "data": {
      "text/plain": [
       "(None, [67, 45, 13, 12, 6, 4, 4, 1])"
      ]
     },
     "execution_count": 220,
     "metadata": {},
     "output_type": "execute_result"
    },
    {
     "data": {
      "text/plain": [
       "(<list_reverseiterator at 0x7fdebd575310>, [1, 2, 3, 6, 5, 4])"
      ]
     },
     "execution_count": 220,
     "metadata": {},
     "output_type": "execute_result"
    },
    {
     "data": {
      "text/plain": [
       "([4, 5, 6, 3, 2, 1], [1, 2, 3, 6, 5, 4])"
      ]
     },
     "execution_count": 220,
     "metadata": {},
     "output_type": "execute_result"
    },
    {
     "data": {
      "text/plain": [
       "([4, 5, 6, 3, 2, 1], [1, 2, 3, 6, 5, 4])"
      ]
     },
     "execution_count": 220,
     "metadata": {},
     "output_type": "execute_result"
    },
    {
     "data": {
      "text/plain": [
       "(None, [4, 5, 6, 3, 2, 1])"
      ]
     },
     "execution_count": 220,
     "metadata": {},
     "output_type": "execute_result"
    }
   ],
   "source": [
    "lst = [1, 2, 3]\n",
    "lst.extend([8, 9, 10]), lst\n",
    "lst.append([8, 9, 10]), lst\n",
    "lst = [1, 1, 2, 3]\n",
    "lst.remove(1), lst\n",
    "lst = [13, 4, 6, 1, 45, 4, 67, 12]\n",
    "sorted(lst), lst\n",
    "lst.sort(), lst\n",
    "lst.sort(reverse=True), lst\n",
    "lst = [1, 2, 3, 6, 5, 4]\n",
    "reversed(lst), lst\n",
    "list(reversed(lst)), lst\n",
    "lst[::-1], lst\n",
    "lst.reverse(), lst"
   ]
  },
  {
   "cell_type": "code",
   "execution_count": 225,
   "metadata": {},
   "outputs": [
    {
     "data": {
      "text/plain": [
       "5"
      ]
     },
     "execution_count": 225,
     "metadata": {},
     "output_type": "execute_result"
    },
    {
     "data": {
      "text/plain": [
       "15"
      ]
     },
     "execution_count": 225,
     "metadata": {},
     "output_type": "execute_result"
    },
    {
     "data": {
      "text/plain": [
       "5"
      ]
     },
     "execution_count": 225,
     "metadata": {},
     "output_type": "execute_result"
    },
    {
     "data": {
      "text/plain": [
       "1"
      ]
     },
     "execution_count": 225,
     "metadata": {},
     "output_type": "execute_result"
    },
    {
     "data": {
      "text/plain": [
       "20"
      ]
     },
     "execution_count": 225,
     "metadata": {},
     "output_type": "execute_result"
    },
    {
     "data": {
      "text/plain": [
       "[1, 2, 3, 4, 5, 6, 7, 8, 9]"
      ]
     },
     "execution_count": 225,
     "metadata": {},
     "output_type": "execute_result"
    },
    {
     "data": {
      "text/plain": [
       "45"
      ]
     },
     "execution_count": 225,
     "metadata": {},
     "output_type": "execute_result"
    }
   ],
   "source": [
    "lst = [1, 2, 3, 4, 5]\n",
    "len(lst)\n",
    "sum(lst)\n",
    "max(lst)\n",
    "min(lst)\n",
    "sum(lst, start=5)\n",
    "lst = [[1, 2, 3], [4, 5, 6], [7, 8, 9]]\n",
    "sum(lst, start=[])\n",
    "sum(sum(lst, start=[]))"
   ]
  },
  {
   "cell_type": "code",
   "execution_count": 244,
   "metadata": {},
   "outputs": [
    {
     "data": {
      "text/plain": [
       "((1, 2, 3, False), (1, 2, 3, False))"
      ]
     },
     "execution_count": 244,
     "metadata": {},
     "output_type": "execute_result"
    },
    {
     "data": {
      "text/plain": [
       "2"
      ]
     },
     "execution_count": 244,
     "metadata": {},
     "output_type": "execute_result"
    },
    {
     "data": {
      "text/plain": [
       "1"
      ]
     },
     "execution_count": 244,
     "metadata": {},
     "output_type": "execute_result"
    },
    {
     "data": {
      "text/plain": [
       "((1,), 1)"
      ]
     },
     "execution_count": 244,
     "metadata": {},
     "output_type": "execute_result"
    },
    {
     "data": {
      "text/plain": [
       "((1, 2, 3), ('a', 'b', 'c'))"
      ]
     },
     "execution_count": 244,
     "metadata": {},
     "output_type": "execute_result"
    },
    {
     "data": {
      "text/plain": [
       "(1, 2, [2, 3, 4, 5])"
      ]
     },
     "execution_count": 244,
     "metadata": {},
     "output_type": "execute_result"
    }
   ],
   "source": [
    "t = (1, 2, 3, False)\n",
    "t2 = t, t\n",
    "t2\n",
    "t[1]\n",
    "# t[1] = 3\n",
    "t = (1)\n",
    "t\n",
    "t = (1,)\n",
    "t, len(t)\n",
    "tuple([1, 2, 3]), tuple(\"abc\")\n",
    "lst = [2, 3, 4]\n",
    "t = (1, 2, lst)\n",
    "t[2].append(5)\n",
    "t"
   ]
  },
  {
   "cell_type": "code",
   "execution_count": 255,
   "metadata": {},
   "outputs": [
    {
     "data": {
      "text/plain": [
       "(None, {1, 2, 3, 4, 5})"
      ]
     },
     "execution_count": 255,
     "metadata": {},
     "output_type": "execute_result"
    },
    {
     "data": {
      "text/plain": [
       "(None, {1, 2, 3, 4, 5})"
      ]
     },
     "execution_count": 255,
     "metadata": {},
     "output_type": "execute_result"
    },
    {
     "data": {
      "text/plain": [
       "(None, {1, 2, 3, 5})"
      ]
     },
     "execution_count": 255,
     "metadata": {},
     "output_type": "execute_result"
    },
    {
     "data": {
      "text/plain": [
       "(None, {1, 2, 3, 5})"
      ]
     },
     "execution_count": 255,
     "metadata": {},
     "output_type": "execute_result"
    },
    {
     "data": {
      "text/plain": [
       "({3, 5}, {1, 2, 3, 4, 5}, {1, 2}, {1, 2, 4})"
      ]
     },
     "execution_count": 255,
     "metadata": {},
     "output_type": "execute_result"
    }
   ],
   "source": [
    "s = {1, 2, 3, 4, 4}\n",
    "s = set([1, 2, 3, 3, 4])\n",
    "s.add(5), s\n",
    "s.add(5), s\n",
    "s.remove(4), s\n",
    "# s.remove(6)\n",
    "s.discard(6), s\n",
    "s2 = {3, 4, 5}\n",
    "s & s2, s | s2, s - s2, s ^ s2"
   ]
  },
  {
   "cell_type": "code",
   "execution_count": 264,
   "metadata": {},
   "outputs": [
    {
     "data": {
      "text/plain": [
       "{1: 2, 'abc': 3}"
      ]
     },
     "execution_count": 264,
     "metadata": {},
     "output_type": "execute_result"
    },
    {
     "data": {
      "text/plain": [
       "dict"
      ]
     },
     "execution_count": 264,
     "metadata": {},
     "output_type": "execute_result"
    },
    {
     "data": {
      "text/plain": [
       "(2, 3)"
      ]
     },
     "execution_count": 264,
     "metadata": {},
     "output_type": "execute_result"
    },
    {
     "data": {
      "text/plain": [
       "{1: 2, 'abc': 3, 2: 4}"
      ]
     },
     "execution_count": 264,
     "metadata": {},
     "output_type": "execute_result"
    },
    {
     "data": {
      "text/plain": [
       "{1: 2, 'abc': 3}"
      ]
     },
     "execution_count": 264,
     "metadata": {},
     "output_type": "execute_result"
    },
    {
     "data": {
      "text/plain": [
       "'not found'"
      ]
     },
     "execution_count": 264,
     "metadata": {},
     "output_type": "execute_result"
    },
    {
     "data": {
      "text/plain": [
       "(None, {1: 3, 'abc': 3, 2: 4})"
      ]
     },
     "execution_count": 264,
     "metadata": {},
     "output_type": "execute_result"
    }
   ],
   "source": [
    "d = {1: 2, \"abc\": 3}\n",
    "d\n",
    "type({})\n",
    "d[1], d[\"abc\"]\n",
    "d[2] = 4\n",
    "d\n",
    "del d[2]\n",
    "d\n",
    "d.get(2, \"not found\")\n",
    "d2 = {1: 3, 2: 4}\n",
    "d.update(d2), d"
   ]
  },
  {
   "cell_type": "code",
   "execution_count": 269,
   "metadata": {},
   "outputs": [
    {
     "data": {
      "text/plain": [
       "False"
      ]
     },
     "execution_count": 269,
     "metadata": {},
     "output_type": "execute_result"
    },
    {
     "data": {
      "text/plain": [
       "True"
      ]
     },
     "execution_count": 269,
     "metadata": {},
     "output_type": "execute_result"
    },
    {
     "data": {
      "text/plain": [
       "False"
      ]
     },
     "execution_count": 269,
     "metadata": {},
     "output_type": "execute_result"
    },
    {
     "data": {
      "text/plain": [
       "False"
      ]
     },
     "execution_count": 269,
     "metadata": {},
     "output_type": "execute_result"
    }
   ],
   "source": [
    "1 == 1 and 2 == 3\n",
    "lst = [1, 2, 3]\n",
    "1 in lst\n",
    "2 not in lst\n",
    "0 in lst"
   ]
  },
  {
   "cell_type": "code",
   "execution_count": 279,
   "metadata": {},
   "outputs": [
    {
     "name": "stdout",
     "output_type": "stream",
     "text": [
      "2 == 2\n"
     ]
    },
    {
     "data": {
      "text/plain": [
       "2"
      ]
     },
     "execution_count": 279,
     "metadata": {},
     "output_type": "execute_result"
    }
   ],
   "source": [
    "if 1 == 1 and 2 == 3:\n",
    "    print(\"1 == 1\")\n",
    "    print(\"not\")\n",
    "elif 2:\n",
    "    print(\"2 == 2\")\n",
    "else:\n",
    "    print(\"else\")\n",
    "\n",
    "a, b = 1, 2\n",
    "# a == b ? 1 : 2\n",
    "1 if a == b else 2"
   ]
  },
  {
   "cell_type": "code",
   "execution_count": 286,
   "metadata": {},
   "outputs": [
    {
     "name": "stdout",
     "output_type": "stream",
     "text": [
      "1\n",
      "2\n",
      "3\n",
      "4\n",
      "True\n"
     ]
    },
    {
     "data": {
      "text/plain": [
       "True"
      ]
     },
     "execution_count": 286,
     "metadata": {},
     "output_type": "execute_result"
    },
    {
     "name": "stdout",
     "output_type": "stream",
     "text": [
      "0 2 4 \n",
      "[0, 1, 2, 3, 4, 5, 6, 7, 8, 9, 10, 11, 12, 13, 14, 15, 16, 17, 18, 19, 20, 21, 22, 23, 24, 25, 26, 27, 28, 29, 30, 31, 32, 33, 34, 35, 36, 37, 38, 39, 40, 41, 42, 43, 44, 45, 46, 47, 48, 49, 50, 51, 52, 53, 54, 55, 56, 57, 58, 59, 60, 61, 62, 63, 64, 65, 66, 67, 68, 69, 70, 71, 72, 73, 74, 75, 76, 77, 78, 79, 80, 81, 82, 83, 84, 85, 86, 87, 88, 89, 90, 91, 92, 93, 94, 95, 96, 97, 98, 99]\n"
     ]
    }
   ],
   "source": [
    "# for (int i = 0; i < 5; i++)\n",
    "lst = [1, 2, 3, 4, True]\n",
    "for value in lst:\n",
    "    print(value)\n",
    "value\n",
    "for i in range(0, 5, 2):\n",
    "    print(i, end=\" \")\n",
    "print()\n",
    "lst = list(range(0, 100))\n",
    "print(lst)"
   ]
  },
  {
   "cell_type": "code",
   "execution_count": 291,
   "metadata": {},
   "outputs": [
    {
     "name": "stdout",
     "output_type": "stream",
     "text": [
      "1 abc 0 \n",
      "2 4 True \n",
      "(1, 2)\n",
      "('abc', 4)\n",
      "(0, True)\n",
      "\n",
      "1 -> 2\n",
      "abc -> 4\n",
      "0 -> True\n"
     ]
    }
   ],
   "source": [
    "d = {1: 2, \"abc\": 4, 0: True}\n",
    "for key in d.keys():\n",
    "    print(key, end=\" \")\n",
    "print()\n",
    "for value in d.values():\n",
    "    print(value, end=\" \")\n",
    "print()\n",
    "for item in d.items():\n",
    "    print(item)\n",
    "print()\n",
    "for key, value in d.items():\n",
    "    print(f\"{key} -> {value}\")"
   ]
  },
  {
   "cell_type": "code",
   "execution_count": 296,
   "metadata": {},
   "outputs": [
    {
     "data": {
      "text/plain": [
       "(3, 4)"
      ]
     },
     "execution_count": 296,
     "metadata": {},
     "output_type": "execute_result"
    },
    {
     "data": {
      "text/plain": [
       "(1, [2, 3, 4])"
      ]
     },
     "execution_count": 296,
     "metadata": {},
     "output_type": "execute_result"
    },
    {
     "data": {
      "text/plain": [
       "([2, 3, 4], 1)"
      ]
     },
     "execution_count": 296,
     "metadata": {},
     "output_type": "execute_result"
    },
    {
     "name": "stdout",
     "output_type": "stream",
     "text": [
      "1\n",
      "2\n",
      "3\n",
      "4\n"
     ]
    }
   ],
   "source": [
    "t = (1, 2, 3)\n",
    "a, b, c = t # a = 1, b = 2, c = 3\n",
    "t = (1, 2, (3, 4))\n",
    "a, b, (c, d) = t # c = 3, d = 4\n",
    "\n",
    "l = [1, 2, *[3, 4]] # [3, 4] 被解包\n",
    "# l = [1, 2, 3, 4]\n",
    "l = (*[3, 4],)\n",
    "l\n",
    "a, *b = [1, 2, 3, 4]\n",
    "# a = 1, b = [2, 3, 4]\n",
    "\n",
    "a, b\n",
    "a, b = b, a\n",
    "a, b\n",
    "\n",
    "lst = [[1, 2], [3, 4]]\n",
    "for a, b in lst:\n",
    "    print(a)\n",
    "    print(b)"
   ]
  },
  {
   "cell_type": "code",
   "execution_count": 303,
   "metadata": {},
   "outputs": [
    {
     "data": {
      "text/plain": [
       "'\\nfor (int i = 0; i < len(lst); ++i) {\\n    // i -> lst[i]\\n}\\n'"
      ]
     },
     "execution_count": 303,
     "metadata": {},
     "output_type": "execute_result"
    },
    {
     "name": "stdout",
     "output_type": "stream",
     "text": [
      "0 -> a\n",
      "1 -> c\n",
      "2 -> 12\n",
      "3 -> 45\n",
      "0 -> a\n",
      "1 -> c\n",
      "2 -> 12\n",
      "3 -> 45\n",
      "(1, 'a')\n",
      "(2, 'c')\n",
      "(3, 12)\n",
      "(4, 45)\n",
      "1 5\n",
      "2 6\n",
      "3 7\n"
     ]
    },
    {
     "data": {
      "text/plain": [
       "[(1, 5), (2, 6), (3, 7)]"
      ]
     },
     "execution_count": 303,
     "metadata": {},
     "output_type": "execute_result"
    }
   ],
   "source": [
    "lst = [\"a\", \"c\", 12, 45]\n",
    "\"\"\"\n",
    "for (int i = 0; i < len(lst); ++i) {\n",
    "    // i -> lst[i]\n",
    "}\n",
    "\"\"\"\n",
    "# for value in lst:\n",
    "for i in range(len(lst)):\n",
    "    print(f\"{i} -> {lst[i]}\")\n",
    "for i, value in enumerate(lst):\n",
    "    print(f\"{i} -> {lst[i]}\")\n",
    "for item in enumerate(lst, start=1):\n",
    "    print(item)\n",
    "\n",
    "lst1 = [1, 2, 3, 4]\n",
    "lst2 = [5, 6, 7]\n",
    "for a, b in zip(lst1, lst2):\n",
    "    print(a, b)\n",
    "list(zip(lst1, lst2))"
   ]
  },
  {
   "cell_type": "code",
   "execution_count": 308,
   "metadata": {},
   "outputs": [
    {
     "data": {
      "text/plain": [
       "[(1, 5),\n",
       " (1, 6),\n",
       " (1, 7),\n",
       " (1, 8),\n",
       " (2, 5),\n",
       " (2, 6),\n",
       " (2, 7),\n",
       " (2, 8),\n",
       " (3, 5),\n",
       " (3, 6),\n",
       " (3, 7),\n",
       " (3, 8),\n",
       " (4, 5),\n",
       " (4, 6),\n",
       " (4, 7),\n",
       " (4, 8)]"
      ]
     },
     "execution_count": 308,
     "metadata": {},
     "output_type": "execute_result"
    },
    {
     "data": {
      "text/plain": [
       "[(1, 5), (2, 6), (3, 7), (4, 8)]"
      ]
     },
     "execution_count": 308,
     "metadata": {},
     "output_type": "execute_result"
    },
    {
     "data": {
      "text/plain": [
       "[1, 2, 3, 4]"
      ]
     },
     "execution_count": 308,
     "metadata": {},
     "output_type": "execute_result"
    },
    {
     "data": {
      "text/plain": [
       "{1: 5, 2: 6, 3: 7, 4: 8}"
      ]
     },
     "execution_count": 308,
     "metadata": {},
     "output_type": "execute_result"
    }
   ],
   "source": [
    "l1 = [1, 2, 3, 4]\n",
    "l2 = [5, 6, 7, 8]\n",
    "[(a, b) for a in l1 for b in l2]\n",
    "[(a, b) for a in l1 for b in l2 if b - a == 4]\n",
    "[a__ for a__ in l1]\n",
    "# a__\n",
    "{a: b for a in l1 for b in l2 if b - a == 4}"
   ]
  },
  {
   "cell_type": "code",
   "execution_count": 309,
   "metadata": {},
   "outputs": [
    {
     "name": "stdout",
     "output_type": "stream",
     "text": [
      "0\n",
      "1\n",
      "2\n",
      "3\n",
      "4\n",
      "6\n"
     ]
    }
   ],
   "source": [
    "for i in range(10):\n",
    "    if i == 5:\n",
    "        continue\n",
    "    if i == 7:\n",
    "        break\n",
    "    print(i)"
   ]
  },
  {
   "cell_type": "code",
   "execution_count": 315,
   "metadata": {},
   "outputs": [
    {
     "name": "stdout",
     "output_type": "stream",
     "text": [
      "a = 1, b = 2\n"
     ]
    },
    {
     "data": {
      "text/plain": [
       "(1, 2, 3)"
      ]
     },
     "execution_count": 315,
     "metadata": {},
     "output_type": "execute_result"
    },
    {
     "data": {
      "text/plain": [
       "(1, 2)"
      ]
     },
     "execution_count": 315,
     "metadata": {},
     "output_type": "execute_result"
    },
    {
     "data": {
      "text/plain": [
       "True"
      ]
     },
     "execution_count": 315,
     "metadata": {},
     "output_type": "execute_result"
    }
   ],
   "source": [
    "def add(a, b):\n",
    "    print(f\"a = {a}, b = {b}\")\n",
    "    return a, b, a + b\n",
    "\n",
    "add(1, 2)\n",
    "\n",
    "def func(a, b):\n",
    "    if a == b:\n",
    "        return True\n",
    "    return a, b\n",
    "\n",
    "func(1, 2)\n",
    "func(1, 1)"
   ]
  },
  {
   "cell_type": "code",
   "execution_count": 324,
   "metadata": {},
   "outputs": [
    {
     "data": {
      "text/plain": [
       "(1, 2)"
      ]
     },
     "execution_count": 324,
     "metadata": {},
     "output_type": "execute_result"
    },
    {
     "data": {
      "text/plain": [
       "(3, 4)"
      ]
     },
     "execution_count": 324,
     "metadata": {},
     "output_type": "execute_result"
    },
    {
     "data": {
      "text/plain": [
       "(3, 4)"
      ]
     },
     "execution_count": 324,
     "metadata": {},
     "output_type": "execute_result"
    },
    {
     "name": "stdout",
     "output_type": "stream",
     "text": [
      "1 (2, 3, 4, 5, 6)\n",
      "1 {'c': 2, 'd': 5, 's': 3}\n",
      "1 {'b': 2}\n",
      "1 (2, 3, 4, 5) {'a': 1, 'b': 2}\n"
     ]
    }
   ],
   "source": [
    "def func(a, b=2):\n",
    "    if a == b:\n",
    "        return True\n",
    "    return a, b\n",
    "\n",
    "func(1) # func(1, 2)\n",
    "func(3, 4)\n",
    "func(b=4, a=3)\n",
    "\n",
    "def func(a, *b):\n",
    "    print(a, b)\n",
    "\n",
    "func(1, 2, 3, 4, 5, 6)\n",
    "\n",
    "def func(a, **b):\n",
    "    print(a, b)\n",
    "\n",
    "func(1, c=2, d=5, s=3)\n",
    "func(1, b=2)\n",
    "\n",
    "def func(arg, *args, **kwargs):\n",
    "    print(arg, args, kwargs)\n",
    "\n",
    "func(1, 2, 3, 4, 5, a=1, b=2)"
   ]
  },
  {
   "cell_type": "code",
   "execution_count": 330,
   "metadata": {},
   "outputs": [
    {
     "data": {
      "text/plain": [
       "True"
      ]
     },
     "execution_count": 330,
     "metadata": {},
     "output_type": "execute_result"
    },
    {
     "data": {
      "text/plain": [
       "True"
      ]
     },
     "execution_count": 330,
     "metadata": {},
     "output_type": "execute_result"
    },
    {
     "data": {
      "text/plain": [
       "(140594622650752, 140594622650752)"
      ]
     },
     "execution_count": 330,
     "metadata": {},
     "output_type": "execute_result"
    },
    {
     "data": {
      "text/plain": [
       "([1, 2, 3, 4], [1, 2, 3, 4])"
      ]
     },
     "execution_count": 330,
     "metadata": {},
     "output_type": "execute_result"
    },
    {
     "data": {
      "text/plain": [
       "([1, 5, 3, 4], [1, 5, 3, 4])"
      ]
     },
     "execution_count": 330,
     "metadata": {},
     "output_type": "execute_result"
    },
    {
     "data": {
      "text/plain": [
       "True"
      ]
     },
     "execution_count": 330,
     "metadata": {},
     "output_type": "execute_result"
    },
    {
     "data": {
      "text/plain": [
       "False"
      ]
     },
     "execution_count": 330,
     "metadata": {},
     "output_type": "execute_result"
    },
    {
     "data": {
      "text/plain": [
       "(140594622650752, 140594622634752)"
      ]
     },
     "execution_count": 330,
     "metadata": {},
     "output_type": "execute_result"
    },
    {
     "data": {
      "text/plain": [
       "([1, 5, 3, 4], [1, 4, 3, 4])"
      ]
     },
     "execution_count": 330,
     "metadata": {},
     "output_type": "execute_result"
    }
   ],
   "source": [
    "lst1 = [1, 2, 3, 4]\n",
    "lst2 = lst1\n",
    "lst1 == lst2\n",
    "lst1 is lst2\n",
    "id(lst1), id(lst2)\n",
    "lst1, lst2\n",
    "lst2[1] = 5\n",
    "lst1, lst2\n",
    "\n",
    "lst2 = lst1[:]\n",
    "lst1 == lst2\n",
    "lst1 is lst2\n",
    "id(lst1), id(lst2)\n",
    "lst2[1] = 4\n",
    "lst1, lst2"
   ]
  },
  {
   "cell_type": "code",
   "execution_count": 332,
   "metadata": {},
   "outputs": [
    {
     "data": {
      "text/plain": [
       "[1, 2, 3, 4, 5]"
      ]
     },
     "execution_count": 332,
     "metadata": {},
     "output_type": "execute_result"
    }
   ],
   "source": [
    "def func(lst):\n",
    "    lst[1] = True\n",
    "\n",
    "lst = [1, 2, 3, 4, 5]\n",
    "func(lst[:])\n",
    "lst"
   ]
  },
  {
   "cell_type": "code",
   "execution_count": 339,
   "metadata": {},
   "outputs": [
    {
     "data": {
      "text/plain": [
       "9"
      ]
     },
     "execution_count": 339,
     "metadata": {},
     "output_type": "execute_result"
    },
    {
     "data": {
      "text/plain": [
       "'<lambda>'"
      ]
     },
     "execution_count": 339,
     "metadata": {},
     "output_type": "execute_result"
    },
    {
     "data": {
      "text/plain": [
       "'f'"
      ]
     },
     "execution_count": 339,
     "metadata": {},
     "output_type": "execute_result"
    },
    {
     "data": {
      "text/plain": [
       "9"
      ]
     },
     "execution_count": 339,
     "metadata": {},
     "output_type": "execute_result"
    },
    {
     "data": {
      "text/plain": [
       "9"
      ]
     },
     "execution_count": 339,
     "metadata": {},
     "output_type": "execute_result"
    }
   ],
   "source": [
    "(lambda a: a**2 + 2*a + 1)(2) # 9\n",
    "\n",
    "f = lambda a: a**2 + 2*a + 1\n",
    "f.__name__\n",
    "# 近似等价于\n",
    "def f(a):\n",
    "    return a**2 + 2*a + 1\n",
    "f.__name__\n",
    "\n",
    "def func(function):\n",
    "    return function(2)\n",
    "\n",
    "def f(a):\n",
    "    return a**2 + 2*a + 1\n",
    "func(f)\n",
    "func(lambda a: a**2 + 2*a + 1)"
   ]
  },
  {
   "cell_type": "code",
   "execution_count": 347,
   "metadata": {},
   "outputs": [
    {
     "name": "stdout",
     "output_type": "stream",
     "text": [
      "a\tBabc\n",
      "1 <class 'str'>\n"
     ]
    }
   ],
   "source": [
    "print(\"a\", \"B\", sep=\"\\t\", end=\"abc\\n\")\n",
    "s = input(\"please input a number >>> \")\n",
    "print(s, type(s))\n",
    "# 1\n",
    "a = int(s.strip())"
   ]
  },
  {
   "cell_type": "code",
   "execution_count": 351,
   "metadata": {},
   "outputs": [
    {
     "data": {
      "text/plain": [
       "[1, 2, 3]"
      ]
     },
     "execution_count": 351,
     "metadata": {},
     "output_type": "execute_result"
    },
    {
     "data": {
      "text/plain": [
       "(1, 2)"
      ]
     },
     "execution_count": 351,
     "metadata": {},
     "output_type": "execute_result"
    }
   ],
   "source": [
    "list(map(int, [\"1\", \"2\", \"3\"]))\n",
    "# 1 2\n",
    "a, b = map(int, input().strip().split())\n",
    "a, b"
   ]
  },
  {
   "cell_type": "code",
   "execution_count": 353,
   "metadata": {},
   "outputs": [
    {
     "data": {
      "text/plain": [
       "[1, 4, 7]"
      ]
     },
     "execution_count": 353,
     "metadata": {},
     "output_type": "execute_result"
    }
   ],
   "source": [
    "# filter(f, [a, b, c])\n",
    "# f(a) == True, 保留 a\n",
    "list(filter(lambda a: a % 3 == 1, [1, 2, 3, 4, 5, 6, 7]))"
   ]
  },
  {
   "cell_type": "code",
   "execution_count": 354,
   "metadata": {},
   "outputs": [
    {
     "name": "stdout",
     "output_type": "stream",
     "text": [
      "2 3 1\n",
      "1 2\n"
     ]
    }
   ],
   "source": [
    "class ClassName():\n",
    "    a = 1\n",
    "    def __init__(self, arg1, arg2):\n",
    "        self.arg1 = arg1\n",
    "        self.arg2 = arg2\n",
    "    def method(self):\n",
    "        print(self.arg1, self.arg2, self.a)\n",
    "\n",
    "obj = ClassName(2, 3)\n",
    "obj.method() # 2 3 1\n",
    "print(obj.a, obj.arg1) # 1 2"
   ]
  },
  {
   "cell_type": "code",
   "execution_count": 355,
   "metadata": {},
   "outputs": [
    {
     "name": "stdout",
     "output_type": "stream",
     "text": [
      "2\n"
     ]
    }
   ],
   "source": [
    "class ClassA():\n",
    "    def __init__(self, a):\n",
    "        self.a = a\n",
    "    def print(self):\n",
    "        print(self.a)\n",
    "\n",
    "class ClassB(ClassA):\n",
    "    def __init__(self, a):\n",
    "        super().__init__(a)\n",
    "        self.a *= 2\n",
    "\n",
    "obj = ClassB(1)\n",
    "obj.print() # 2"
   ]
  },
  {
   "cell_type": "code",
   "execution_count": 358,
   "metadata": {},
   "outputs": [
    {
     "data": {
      "text/plain": [
       "1"
      ]
     },
     "execution_count": 358,
     "metadata": {},
     "output_type": "execute_result"
    },
    {
     "data": {
      "text/plain": [
       "2"
      ]
     },
     "execution_count": 358,
     "metadata": {},
     "output_type": "execute_result"
    },
    {
     "data": {
      "text/plain": [
       "['_A__a',\n",
       " '__class__',\n",
       " '__delattr__',\n",
       " '__dict__',\n",
       " '__dir__',\n",
       " '__doc__',\n",
       " '__eq__',\n",
       " '__format__',\n",
       " '__ge__',\n",
       " '__getattribute__',\n",
       " '__gt__',\n",
       " '__hash__',\n",
       " '__init__',\n",
       " '__init_subclass__',\n",
       " '__le__',\n",
       " '__lt__',\n",
       " '__module__',\n",
       " '__ne__',\n",
       " '__new__',\n",
       " '__reduce__',\n",
       " '__reduce_ex__',\n",
       " '__repr__',\n",
       " '__setattr__',\n",
       " '__sizeof__',\n",
       " '__str__',\n",
       " '__subclasshook__',\n",
       " '__weakref__',\n",
       " '_a',\n",
       " 'a']"
      ]
     },
     "execution_count": 358,
     "metadata": {},
     "output_type": "execute_result"
    },
    {
     "data": {
      "text/plain": [
       "3"
      ]
     },
     "execution_count": 358,
     "metadata": {},
     "output_type": "execute_result"
    }
   ],
   "source": [
    "class A():\n",
    "    a = 1\n",
    "    _a = 2\n",
    "    __a = 3\n",
    "\n",
    "obj = A()\n",
    "obj.a\n",
    "obj._a\n",
    "dir(obj)\n",
    "obj._A__a"
   ]
  },
  {
   "cell_type": "code",
   "execution_count": 367,
   "metadata": {},
   "outputs": [
    {
     "data": {
      "text/plain": [
       "3"
      ]
     },
     "execution_count": 367,
     "metadata": {},
     "output_type": "execute_result"
    },
    {
     "data": {
      "text/plain": [
       "3"
      ]
     },
     "execution_count": 367,
     "metadata": {},
     "output_type": "execute_result"
    },
    {
     "data": {
      "text/plain": [
       "(3, 3)"
      ]
     },
     "execution_count": 367,
     "metadata": {},
     "output_type": "execute_result"
    },
    {
     "name": "stdout",
     "output_type": "stream",
     "text": [
      "hello\n",
      "hello\n"
     ]
    },
    {
     "data": {
      "text/plain": [
       "2"
      ]
     },
     "execution_count": 367,
     "metadata": {},
     "output_type": "execute_result"
    },
    {
     "data": {
      "text/plain": [
       "2"
      ]
     },
     "execution_count": 367,
     "metadata": {},
     "output_type": "execute_result"
    }
   ],
   "source": [
    "(1).__add__(2)\n",
    "1 + 2\n",
    "[1, 2, 3].__len__(), len([1, 2, 3])\n",
    "\n",
    "def f():\n",
    "    print(\"hello\")\n",
    "f()\n",
    "f.__call__()\n",
    "\n",
    "class A():\n",
    "    def __init__(self, a):\n",
    "        self.a = a \n",
    "    def __len__(self):\n",
    "        return 2\n",
    "\n",
    "obj = A(1)\n",
    "obj.__len__()\n",
    "len(obj)"
   ]
  },
  {
   "cell_type": "code",
   "execution_count": 370,
   "metadata": {},
   "outputs": [
    {
     "data": {
      "text/plain": [
       "[1, 3]"
      ]
     },
     "execution_count": 370,
     "metadata": {},
     "output_type": "execute_result"
    },
    {
     "data": {
      "text/plain": [
       "[1, 3]"
      ]
     },
     "execution_count": 370,
     "metadata": {},
     "output_type": "execute_result"
    },
    {
     "data": {
      "text/plain": [
       "[1, 3]"
      ]
     },
     "execution_count": 370,
     "metadata": {},
     "output_type": "execute_result"
    }
   ],
   "source": [
    "lst = [0, 1, 2, 3, 4, 5]\n",
    "lst[1:5:2]\n",
    "lst[slice(1, 5, 2)]\n",
    "lst.__getitem__(slice(1, 5, 2))"
   ]
  },
  {
   "cell_type": "code",
   "execution_count": 373,
   "metadata": {},
   "outputs": [
    {
     "data": {
      "text/plain": [
       "'abcd\\n'"
      ]
     },
     "execution_count": 373,
     "metadata": {},
     "output_type": "execute_result"
    }
   ],
   "source": [
    "f = open(\"test.txt\", \"r\", encoding=\"utf-8\")\n",
    "# s = f.read()\n",
    "# s = f.readlines()\n",
    "s = f.readline()\n",
    "s\n",
    "f.close()"
   ]
  },
  {
   "cell_type": "code",
   "execution_count": 374,
   "metadata": {},
   "outputs": [
    {
     "data": {
      "text/plain": [
       "9"
      ]
     },
     "execution_count": 374,
     "metadata": {},
     "output_type": "execute_result"
    }
   ],
   "source": [
    "f = open(\"test2.txt\", \"w\", encoding=\"utf-8\")\n",
    "f.write(\"abcd\\nefgh\")\n",
    "f.close()"
   ]
  },
  {
   "cell_type": "code",
   "execution_count": 375,
   "metadata": {},
   "outputs": [
    {
     "data": {
      "text/plain": [
       "4"
      ]
     },
     "execution_count": 375,
     "metadata": {},
     "output_type": "execute_result"
    }
   ],
   "source": [
    "f = open(\"test2.txt\", \"w\", encoding=\"utf-8\")\n",
    "f.write(\"abcd\")\n",
    "f.close()"
   ]
  },
  {
   "cell_type": "code",
   "execution_count": 376,
   "metadata": {},
   "outputs": [
    {
     "data": {
      "text/plain": [
       "4"
      ]
     },
     "execution_count": 376,
     "metadata": {},
     "output_type": "execute_result"
    }
   ],
   "source": [
    "f = open(\"test2.txt\", \"a\", encoding=\"utf-8\")\n",
    "f.write(\"abcd\")\n",
    "f.close()"
   ]
  },
  {
   "cell_type": "code",
   "execution_count": 377,
   "metadata": {},
   "outputs": [
    {
     "data": {
      "text/plain": [
       "b'PK\\x03\\x04\\x14\\x00\\x08\\x00\\x08\\x000\\xad\\xb5T\\x00\\x00\\x00\\x00\\x00\\x00\\x00\\x00\\x0e\\x00\\x00\\x00\\x08\\x00 \\x00test.txtUT\\r\\x00\\x07\\x0c\\xec\\x88b\\r\\xec\\x88b\\x0c\\xec\\x88bux\\x0b\\x00\\x01\\x04\\xf5\\x01\\x00\\x00\\x04\\x14\\x00\\x00\\x00KLJN\\xe1J\\x04\\x02\\xaed \\x00\\x00PK\\x07\\x08\\xd9 \\xcc\\x0c\\r\\x00\\x00\\x00\\x0e\\x00\\x00\\x00PK\\x03\\x04\\x14\\x00\\x08\\x00\\x08\\x00\\x8d\\xad\\xb5T\\x00\\x00\\x00\\x00\\x00\\x00\\x00\\x00\\x08\\x00\\x00\\x00\\t\\x00 \\x00test2.txtUT\\r\\x00\\x07\\xba\\xec\\x88b\\xbb\\xec\\x88b\\xba\\xec\\x88bux\\x0b\\x00\\x01\\x04\\xf5\\x01\\x00\\x00\\x04\\x14\\x00\\x00\\x00KLJNI\\x04b\\x00PK\\x07\\x08\\xf4\\x9c^K\\x08\\x00\\x00\\x00\\x08\\x00\\x00\\x00PK\\x01\\x02\\x14\\x03\\x14\\x00\\x08\\x00\\x08\\x000\\xad\\xb5T\\xd9 \\xcc\\x0c\\r\\x00\\x00\\x00\\x0e\\x00\\x00\\x00\\x08\\x00 \\x00\\x00\\x00\\x00\\x00\\x00\\x00\\x00\\x00\\xa4\\x81\\x00\\x00\\x00\\x00test.txtUT\\r\\x00\\x07\\x0c\\xec\\x88b\\r\\xec\\x88b\\x0c\\xec\\x88bux\\x0b\\x00\\x01\\x04\\xf5\\x01\\x00\\x00\\x04\\x14\\x00\\x00\\x00PK\\x01\\x02\\x14\\x03\\x14\\x00\\x08\\x00\\x08\\x00\\x8d\\xad\\xb5T\\xf4\\x9c^K\\x08\\x00\\x00\\x00\\x08\\x00\\x00\\x00\\t\\x00 \\x00\\x00\\x00\\x00\\x00\\x00\\x00\\x00\\x00\\xa4\\x81c\\x00\\x00\\x00test2.txtUT\\r\\x00\\x07\\xba\\xec\\x88b\\xbb\\xec\\x88b\\xba\\xec\\x88bux\\x0b\\x00\\x01\\x04\\xf5\\x01\\x00\\x00\\x04\\x14\\x00\\x00\\x00PK\\x05\\x06\\x00\\x00\\x00\\x00\\x02\\x00\\x02\\x00\\xad\\x00\\x00\\x00\\xc2\\x00\\x00\\x00\\x00\\x00'"
      ]
     },
     "execution_count": 377,
     "metadata": {},
     "output_type": "execute_result"
    }
   ],
   "source": [
    "f = open(\"test.zip\", \"rb\")\n",
    "b = f.read()\n",
    "b\n",
    "f.close()"
   ]
  },
  {
   "cell_type": "code",
   "execution_count": 379,
   "metadata": {},
   "outputs": [
    {
     "data": {
      "text/plain": [
       "False"
      ]
     },
     "execution_count": 379,
     "metadata": {},
     "output_type": "execute_result"
    },
    {
     "name": "stdout",
     "output_type": "stream",
     "text": [
      "abcd\n",
      "aaaa\n",
      "cccc\n"
     ]
    },
    {
     "data": {
      "text/plain": [
       "True"
      ]
     },
     "execution_count": 379,
     "metadata": {},
     "output_type": "execute_result"
    }
   ],
   "source": [
    "with open(\"test.txt\", \"r\", encoding=\"utf-8\") as f:\n",
    "    f.closed\n",
    "    print(f.read())\n",
    "f.closed"
   ]
  },
  {
   "cell_type": "code",
   "execution_count": 381,
   "metadata": {},
   "outputs": [
    {
     "data": {
      "text/plain": [
       "''"
      ]
     },
     "execution_count": 381,
     "metadata": {},
     "output_type": "execute_result"
    }
   ],
   "source": [
    "try:\n",
    "    input(\">>> \")\n",
    "except KeyboardInterrupt:\n",
    "    print(\"Good bye\")"
   ]
  },
  {
   "cell_type": "code",
   "execution_count": 387,
   "metadata": {},
   "outputs": [
    {
     "name": "stdout",
     "output_type": "stream",
     "text": [
      "can't devide by zero\n",
      "finished!\n"
     ]
    },
    {
     "ename": "ZeroDivisionError",
     "evalue": "division by zero",
     "output_type": "error",
     "traceback": [
      "\u001b[0;31m---------------------------------------------------------------------------\u001b[0m",
      "\u001b[0;31mZeroDivisionError\u001b[0m                         Traceback (most recent call last)",
      "\u001b[0;32m<ipython-input-387-008cf0cc449c>\u001b[0m in \u001b[0;36m<module>\u001b[0;34m\u001b[0m\n\u001b[1;32m      6\u001b[0m \u001b[0;32mexcept\u001b[0m \u001b[0mZeroDivisionError\u001b[0m \u001b[0;32mas\u001b[0m \u001b[0me\u001b[0m\u001b[0;34m:\u001b[0m\u001b[0;34m\u001b[0m\u001b[0;34m\u001b[0m\u001b[0m\n\u001b[1;32m      7\u001b[0m     \u001b[0mprint\u001b[0m\u001b[0;34m(\u001b[0m\u001b[0;34m\"can't devide by zero\"\u001b[0m\u001b[0;34m)\u001b[0m\u001b[0;34m\u001b[0m\u001b[0;34m\u001b[0m\u001b[0m\n\u001b[0;32m----> 8\u001b[0;31m     \u001b[0;32mraise\u001b[0m \u001b[0me\u001b[0m\u001b[0;34m\u001b[0m\u001b[0;34m\u001b[0m\u001b[0m\n\u001b[0m\u001b[1;32m      9\u001b[0m \u001b[0;32mfinally\u001b[0m\u001b[0;34m:\u001b[0m\u001b[0;34m\u001b[0m\u001b[0;34m\u001b[0m\u001b[0m\n\u001b[1;32m     10\u001b[0m     \u001b[0mprint\u001b[0m\u001b[0;34m(\u001b[0m\u001b[0;34m\"finished!\"\u001b[0m\u001b[0;34m)\u001b[0m\u001b[0;34m\u001b[0m\u001b[0;34m\u001b[0m\u001b[0m\n",
      "\u001b[0;32m<ipython-input-387-008cf0cc449c>\u001b[0m in \u001b[0;36m<module>\u001b[0;34m\u001b[0m\n\u001b[1;32m      1\u001b[0m \u001b[0;32mtry\u001b[0m\u001b[0;34m:\u001b[0m\u001b[0;34m\u001b[0m\u001b[0;34m\u001b[0m\u001b[0m\n\u001b[1;32m      2\u001b[0m     \u001b[0;31m# input()\u001b[0m\u001b[0;34m\u001b[0m\u001b[0;34m\u001b[0m\u001b[0;34m\u001b[0m\u001b[0m\n\u001b[0;32m----> 3\u001b[0;31m     \u001b[0mprint\u001b[0m\u001b[0;34m(\u001b[0m\u001b[0;36m1\u001b[0m \u001b[0;34m/\u001b[0m \u001b[0;36m0\u001b[0m\u001b[0;34m)\u001b[0m\u001b[0;34m\u001b[0m\u001b[0;34m\u001b[0m\u001b[0m\n\u001b[0m\u001b[1;32m      4\u001b[0m \u001b[0;31m# except KeyboardInterrupt:\u001b[0m\u001b[0;34m\u001b[0m\u001b[0;34m\u001b[0m\u001b[0;34m\u001b[0m\u001b[0m\n\u001b[1;32m      5\u001b[0m \u001b[0;31m#     print(\"good bye\")\u001b[0m\u001b[0;34m\u001b[0m\u001b[0;34m\u001b[0m\u001b[0;34m\u001b[0m\u001b[0m\n",
      "\u001b[0;31mZeroDivisionError\u001b[0m: division by zero"
     ]
    }
   ],
   "source": [
    "try:\n",
    "    # input()\n",
    "    print(1 / 0)\n",
    "# except KeyboardInterrupt:\n",
    "#     print(\"good bye\")\n",
    "except ZeroDivisionError as e:\n",
    "    print(\"can't devide by zero\")\n",
    "    raise e\n",
    "finally:\n",
    "    print(\"finished!\")\n",
    "# print(1 / 0)"
   ]
  },
  {
   "cell_type": "code",
   "execution_count": 390,
   "metadata": {},
   "outputs": [
    {
     "name": "stdout",
     "output_type": "stream",
     "text": [
      "0\n",
      "1\n",
      "2\n",
      "3\n",
      "4\n",
      "5\n",
      "6\n",
      "7\n",
      "8\n",
      "9\n",
      "else\n",
      "0\n",
      "1\n",
      "2\n",
      "3\n",
      "4\n",
      "5\n",
      "6\n"
     ]
    }
   ],
   "source": [
    "for i in range(10):\n",
    "    # if i == 7:\n",
    "    if i == 11:\n",
    "        break\n",
    "    print(i)\n",
    "else:\n",
    "    print(\"else\")\n",
    "    \n",
    "flag = False\n",
    "for i in range(10):\n",
    "    if i == 7:\n",
    "    # if i == 11:\n",
    "        flag = True\n",
    "        break\n",
    "    print(i)\n",
    "if not flag:\n",
    "    print(\"else\")"
   ]
  },
  {
   "cell_type": "code",
   "execution_count": 391,
   "metadata": {},
   "outputs": [
    {
     "name": "stdout",
     "output_type": "stream",
     "text": [
      "1.0\n"
     ]
    },
    {
     "ename": "ZeroDivisionError",
     "evalue": "division by zero",
     "output_type": "error",
     "traceback": [
      "\u001b[0;31m---------------------------------------------------------------------------\u001b[0m",
      "\u001b[0;31mZeroDivisionError\u001b[0m                         Traceback (most recent call last)",
      "\u001b[0;32m<ipython-input-391-a23a1be37914>\u001b[0m in \u001b[0;36m<module>\u001b[0;34m\u001b[0m\n\u001b[1;32m      4\u001b[0m     \u001b[0mprint\u001b[0m\u001b[0;34m(\u001b[0m\u001b[0;34m\"no\"\u001b[0m\u001b[0;34m)\u001b[0m\u001b[0;34m\u001b[0m\u001b[0;34m\u001b[0m\u001b[0m\n\u001b[1;32m      5\u001b[0m \u001b[0;32melse\u001b[0m\u001b[0;34m:\u001b[0m\u001b[0;34m\u001b[0m\u001b[0;34m\u001b[0m\u001b[0m\n\u001b[0;32m----> 6\u001b[0;31m     \u001b[0mprint\u001b[0m\u001b[0;34m(\u001b[0m\u001b[0;36m1\u001b[0m \u001b[0;34m/\u001b[0m \u001b[0;36m0\u001b[0m\u001b[0;34m)\u001b[0m\u001b[0;34m\u001b[0m\u001b[0;34m\u001b[0m\u001b[0m\n\u001b[0m",
      "\u001b[0;31mZeroDivisionError\u001b[0m: division by zero"
     ]
    }
   ],
   "source": [
    "try:\n",
    "    print(1 / 1)\n",
    "except ZeroDivisionError:\n",
    "    print(\"no\")\n",
    "else:\n",
    "    print(1 / 0)"
   ]
  },
  {
   "cell_type": "code",
   "execution_count": 392,
   "metadata": {},
   "outputs": [],
   "source": [
    "def func():\n",
    "    for i in range(10):\n",
    "        if i == 7:\n",
    "            return\n",
    "    else:\n",
    "        print(\"else\")\n",
    "func()"
   ]
  },
  {
   "cell_type": "code",
   "execution_count": 397,
   "metadata": {},
   "outputs": [
    {
     "data": {
      "text/plain": [
       "(1, 2)"
      ]
     },
     "execution_count": 397,
     "metadata": {},
     "output_type": "execute_result"
    }
   ],
   "source": [
    "import math\n",
    "math.floor(1.5), math.ceil(1.5)\n"
   ]
  },
  {
   "cell_type": "code",
   "execution_count": 399,
   "metadata": {},
   "outputs": [
    {
     "name": "stdout",
     "output_type": "stream",
     "text": [
      "3\n"
     ]
    },
    {
     "data": {
      "text/plain": [
       "'a function print a+b'"
      ]
     },
     "execution_count": 399,
     "metadata": {},
     "output_type": "execute_result"
    }
   ],
   "source": [
    "def func(a, b):\n",
    "    \"\"\"a function print a+b\"\"\"\n",
    "    print(a+b)\n",
    "func(1, 2)\n",
    "func.__doc__"
   ]
  },
  {
   "cell_type": "code",
   "execution_count": 400,
   "metadata": {},
   "outputs": [
    {
     "name": "stdout",
     "output_type": "stream",
     "text": [
      "The Zen of Python, by Tim Peters\n",
      "\n",
      "Beautiful is better than ugly.\n",
      "Explicit is better than implicit.\n",
      "Simple is better than complex.\n",
      "Complex is better than complicated.\n",
      "Flat is better than nested.\n",
      "Sparse is better than dense.\n",
      "Readability counts.\n",
      "Special cases aren't special enough to break the rules.\n",
      "Although practicality beats purity.\n",
      "Errors should never pass silently.\n",
      "Unless explicitly silenced.\n",
      "In the face of ambiguity, refuse the temptation to guess.\n",
      "There should be one-- and preferably only one --obvious way to do it.\n",
      "Although that way may not be obvious at first unless you're Dutch.\n",
      "Now is better than never.\n",
      "Although never is often better than *right* now.\n",
      "If the implementation is hard to explain, it's a bad idea.\n",
      "If the implementation is easy to explain, it may be a good idea.\n",
      "Namespaces are one honking great idea -- let's do more of those!\n"
     ]
    }
   ],
   "source": [
    "import this"
   ]
  }
 ],
 "metadata": {
  "interpreter": {
   "hash": "208fe04bada743b1ff5f43b39be724be5b8a779e1498ca43894e81bad5ef853f"
  },
  "kernelspec": {
   "display_name": "Python 3.8.8 ('base')",
   "language": "python",
   "name": "python3"
  },
  "language_info": {
   "codemirror_mode": {
    "name": "ipython",
    "version": 3
   },
   "file_extension": ".py",
   "mimetype": "text/x-python",
   "name": "python",
   "nbconvert_exporter": "python",
   "pygments_lexer": "ipython3",
   "version": "3.8.8"
  },
  "orig_nbformat": 4
 },
 "nbformat": 4,
 "nbformat_minor": 2
}
